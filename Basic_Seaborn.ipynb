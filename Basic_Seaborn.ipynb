{
  "nbformat": 4,
  "nbformat_minor": 0,
  "metadata": {
    "colab": {
      "name": "Basic Seaborn.ipynb",
      "provenance": []
    },
    "kernelspec": {
      "name": "python3",
      "display_name": "Python 3"
    },
    "language_info": {
      "name": "python"
    }
  },
  "cells": [
    {
      "cell_type": "markdown",
      "metadata": {
        "id": "ShPH_CVOEWv_"
      },
      "source": [
        "While matplotlib allows you to plot a lot of interesting charts, it takes a bit of effort to get the chart that you want. This is especially true if you are dealing with a large amount of data and would like to examine the relationships between multiple variables."
      ]
    },
    {
      "cell_type": "markdown",
      "metadata": {
        "id": "agO4NzrIEtUB"
      },
      "source": [
        "Seaborn is a complementary plotting library that is based on the matplotlib data visualization library. Seaborn's strength lies in its ability to make statistical graphics in python adn it is closely integrated with pandas data structure. Seabron provides a high-level abstractions to allow you to build complex visualziations for your data easily. In short you write less code with seaborn than with matplotlib , while at the same time you get more sophisticated charts."
      ]
    },
    {
      "cell_type": "markdown",
      "metadata": {
        "id": "uexEwZt9FYrG"
      },
      "source": [
        "**Displaying categorical plots**"
      ]
    },
    {
      "cell_type": "markdown",
      "metadata": {
        "id": "c4fWDEdvFhRO"
      },
      "source": [
        "The first example that you will plot is called categorical plot (formerly known as a factorplot). It is useful in cases when you want to plot the distribution of a certain group of data."
      ]
    },
    {
      "cell_type": "code",
      "metadata": {
        "colab": {
          "base_uri": "https://localhost:8080/"
        },
        "id": "6oGJaYfDGBgw",
        "outputId": "84e0222c-bfad-4b03-e4a0-d5509062a15c"
      },
      "source": [
        "from google.colab import drive\n",
        "drive.mount('/content/drive')"
      ],
      "execution_count": 1,
      "outputs": [
        {
          "output_type": "stream",
          "name": "stdout",
          "text": [
            "Mounted at /content/drive\n"
          ]
        }
      ]
    },
    {
      "cell_type": "code",
      "metadata": {
        "colab": {
          "base_uri": "https://localhost:8080/"
        },
        "id": "xo_arh84GCB2",
        "outputId": "168057e2-638d-4c89-e29f-22f3cd4d4e58"
      },
      "source": [
        "%cd /content/drive/My Drive/Colab Notebooks"
      ],
      "execution_count": 2,
      "outputs": [
        {
          "output_type": "stream",
          "name": "stdout",
          "text": [
            "/content/drive/My Drive/Colab Notebooks\n"
          ]
        }
      ]
    },
    {
      "cell_type": "code",
      "metadata": {
        "id": "30V0Ljq1GE-b"
      },
      "source": [
        "import matplotlib.pyplot as plt\n",
        "import seaborn as sns\n",
        "import pandas as pd"
      ],
      "execution_count": 3,
      "outputs": []
    },
    {
      "cell_type": "code",
      "metadata": {
        "id": "tu1kOXvNGdbf"
      },
      "source": [
        "# load data\n",
        "data = pd.read_csv('drivinglicense.csv')"
      ],
      "execution_count": 4,
      "outputs": []
    },
    {
      "cell_type": "code",
      "metadata": {
        "colab": {
          "base_uri": "https://localhost:8080/",
          "height": 369
        },
        "id": "Yj-R2bXmGj_h",
        "outputId": "e22aca75-9f05-4b5c-81ca-fed541bf253b"
      },
      "source": [
        "g = sns.catplot(x=\"gender\", y=\"license\", col=\"group\", data=data, kind=\"bar\", ci=None, aspect=1.0)"
      ],
      "execution_count": 5,
      "outputs": [
        {
          "output_type": "display_data",
          "data": {
            "image/png": "[encoded data removed]",
            "text/plain": [
              "<Figure size 720x360 with 2 Axes>"
            ]
          },
          "metadata": {
            "needs_background": "light"
          }
        }
      ]
    },
    {
      "cell_type": "markdown",
      "metadata": {
        "id": "8M9rIKNuG8NF"
      },
      "source": [
        "You pass in the dataframe through the data parameter, and you specify the gender as the x-axis. The y-axis will tabulate the proportion of men and women who have a driver's license and hence you set y to license. You want to seperate the chart into 2 groups based on group, hence, you set col to group."
      ]
    },
    {
      "cell_type": "markdown",
      "metadata": {
        "id": "eqMF51SwH5Xa"
      },
      "source": [
        "As you can see, 2/3 of mthe men and 1/3 of the women have driver licences in Group A, while in Group B, 1/4 of the men and all the women have driver's licenses"
      ]
    },
    {
      "cell_type": "code",
      "metadata": {
        "id": "YrRDLGQVHRuh"
      },
      "source": [
        "#-----------------------------set the labels-------------------\n",
        "g.set_axis_labels(\"\", \"Proportion with Driving license\")\n",
        "g.set_xticklabels([\"Men\",\"Women\"])\n",
        "g.set_titles(\"{col_var} {col_name}\")\n",
        "#--------------------------------show plot-----------------------\n",
        "plt.show()"
      ],
      "execution_count": 6,
      "outputs": []
    },
    {
      "cell_type": "markdown",
      "metadata": {
        "id": "1yk6NyMVIQf6"
      },
      "source": [
        "**Titanic dataset**"
      ]
    },
    {
      "cell_type": "code",
      "metadata": {
        "colab": {
          "base_uri": "https://localhost:8080/",
          "height": 355
        },
        "id": "PPETjhtiIWoB",
        "outputId": "b6f6c23a-5f56-427c-8a7f-e1b3085a01ca"
      },
      "source": [
        "titanic = sns.load_dataset(\"titanic\")\n",
        "g = sns.catplot(x=\"who\", y=\"survived\", col=\"class\", data=titanic, kind=\"bar\", ci=None, aspect=1)\n",
        "g.set_axis_labels(\"\", \"Survival Rate\")\n",
        "g.set_xticklabels([\"Men\",\"Women\", \"Children\"])\n",
        "g.set_titles(\"{col_var} {col_name}\")\n",
        "#--------------------------------show plot-----------------------\n",
        "plt.show()"
      ],
      "execution_count": 9,
      "outputs": [
        {
          "output_type": "display_data",
          "data": {
            "image/png": "[encoded data removed]",
            "text/plain": [
              "<Figure size 1080x360 with 3 Axes>"
            ]
          },
          "metadata": {
            "needs_background": "light"
          }
        }
      ]
    },
    {
      "cell_type": "markdown",
      "metadata": {
        "id": "rRHpiEyFI7ha"
      },
      "source": [
        "**Displaying Lmplots**"
      ]
    },
    {
      "cell_type": "markdown",
      "metadata": {
        "id": "E44OWxZbI_PW"
      },
      "source": [
        "Another plot that is popular in Seaborn is the lmplot. An lmplot is a scatter plot. Using another built-in dataset from Seaborn, you can plot the relationships between the petal width and the petal length of an iris plant and use it to determine the type of iris plants: setosa, versicolor, or virginica."
      ]
    },
    {
      "cell_type": "code",
      "metadata": {
        "colab": {
          "base_uri": "https://localhost:8080/",
          "height": 438
        },
        "id": "FV30KdBqJXo6",
        "outputId": "52e6a6ae-48d8-4cbd-ccb0-609a324598ee"
      },
      "source": [
        "#---------------load the iris dataset----------\n",
        "iris = sns.load_dataset(\"iris\")\n",
        "#---------------plot the lmplot-----------------\n",
        "sns.lmplot('petal_width','petal_length',data=iris, hue='species', palette='Set1', fit_reg=False, scatter_kws={\"s\":70})\n",
        "#----------------get the current polar axes on the currrent figure-----------------\n",
        "ax = plt.gca()\n",
        "ax.set_title(\"Plotting using the Iris dataset\")\n",
        "#---------show the plot------------------------\n",
        "plt.show()"
      ],
      "execution_count": 10,
      "outputs": [
        {
          "output_type": "stream",
          "name": "stderr",
          "text": [
            "/usr/local/lib/python3.7/dist-packages/seaborn/_decorators.py:43: FutureWarning: Pass the following variables as keyword args: x, y. From version 0.12, the only valid positional argument will be `data`, and passing other arguments without an explicit keyword will result in an error or misinterpretation.\n",
            "  FutureWarning\n"
          ]
        },
        {
          "output_type": "display_data",
          "data": {
            "image/png": "[encoded data removed]",
            "text/plain": [
              "<Figure size 444.75x360 with 1 Axes>"
            ]
          },
          "metadata": {
            "needs_background": "light"
          }
        }
      ]
    },
    {
      "cell_type": "markdown",
      "metadata": {
        "id": "4OqqPL1zKImU"
      },
      "source": [
        "**Displaying Swarmplots**"
      ]
    },
    {
      "cell_type": "markdown",
      "metadata": {
        "id": "TXo31TcyKNL-"
      },
      "source": [
        "A swarmplot is a categorical scatterplot with nonoverlapping points. It is useful for discovering the distribution of data points in a dataset. "
      ]
    },
    {
      "cell_type": "markdown",
      "metadata": {
        "id": "e4ihEZw8Ki2J"
      },
      "source": [
        "We will use salary dataset. "
      ]
    },
    {
      "cell_type": "code",
      "metadata": {
        "colab": {
          "base_uri": "https://localhost:8080/",
          "height": 295
        },
        "id": "HCpN3k1QKh_2",
        "outputId": "03084ddf-c99a-45e1-df9e-9cf5320b8991"
      },
      "source": [
        "sns.set_style(\"whitegrid\")\n",
        "#----------load data---------------------------------------\n",
        "data= pd.read_csv('salary.csv')\n",
        "#-----------plot swarm plot---------------------------------\n",
        "sns.swarmplot(x=\"gender\", y=\"salary\", data=data)\n",
        "ax = plt.gca()\n",
        "ax.set_title(\"Salary distribution\")\n",
        "#-----------show plot ------------------------\n",
        "plt.show()"
      ],
      "execution_count": 11,
      "outputs": [
        {
          "output_type": "display_data",
          "data": {
            "image/png": "[encoded data removed]",
            "text/plain": [
              "<Figure size 432x288 with 1 Axes>"
            ]
          },
          "metadata": {}
        }
      ]
    },
    {
      "cell_type": "markdown",
      "metadata": {
        "id": "1jyqnvUILKLM"
      },
      "source": [
        "In this group, even though women have the highest salary, it also has the widest income disparity."
      ]
    }
  ]
}